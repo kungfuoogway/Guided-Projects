{
 "cells": [
  {
   "cell_type": "markdown",
   "metadata": {
    "collapsed": true
   },
   "source": [
    "## Hacker News Data Analysis \n",
    "\n",
    "In this project, we'll work with a data set of submissions to popular technology site Hacker News. Hacker News is a site started by the startup incubator Y Combinator, where user-submitted stories (known as \"posts\") are voted and commented upon, similar to reddit. Hacker News is extremely popular in technology and startup circles, and posts that make it to the top of Hacker News' listings can get hundreds of thousands of visitors as a result.\n",
    "\n",
    "We're specifically interested in posts whose titles begin with either Ask HN or Show HN. Users submit Ask HN posts to ask the Hacker News community a specific question. Below are a couple examples:\n",
    "\n",
    "Ask HN: How to improve my personal website?\n",
    "Ask HN: Am I the only one outraged by Twitter shutting down share counts?\n",
    "Ask HN: Aby recent changes to CSS that broke mobile?\n",
    "Likewise, users submit Show HN posts to show the Hacker News community a project, product, or just generally something interesting. Below are a couple of examples:\n",
    "\n",
    "Show HN: Wio Link  ESP8266 Based Web of Things Hardware Development Platform'\n",
    "Show HN: Something pointless I made\n",
    "Show HN: Shanhu.io, a programming playground powered by e8vm\n",
    "We'll compare these two types of posts to determine the following:\n",
    "\n",
    "Do Ask HN or Show HN receive more comments on average?\n",
    "Do posts created at a certain time receive more comments on average?\n",
    "Let's start by importing the libraries we need and reading the data set into a list of lists.\n",
    "\n"
   ]
  },
  {
   "cell_type": "code",
   "execution_count": 2,
   "metadata": {
    "collapsed": false
   },
   "outputs": [
    {
     "name": "stdout",
     "output_type": "stream",
     "text": [
      "['id', 'title', 'url', 'num_points', 'num_comments', 'author', 'created_at']\n",
      "\n",
      "\n",
      "[['12224879', 'Interactive Dynamic Video', 'http://www.interactivedynamicvideo.com/', '386', '52', 'ne0phyte', '8/4/2016 11:52'], ['10975351', 'How to Use Open Source and Shut the Fuck Up at the Same Time', 'http://hueniverse.com/2016/01/26/how-to-use-open-source-and-shut-the-fuck-up-at-the-same-time/', '39', '10', 'josep2', '1/26/2016 19:30'], ['11964716', \"Florida DJs May Face Felony for April Fools' Water Joke\", 'http://www.thewire.com/entertainment/2013/04/florida-djs-april-fools-water-joke/63798/', '2', '1', 'vezycash', '6/23/2016 22:20'], ['11919867', 'Technology ventures: From Idea to Enterprise', 'https://www.amazon.com/Technology-Ventures-Enterprise-Thomas-Byers/dp/0073523429', '3', '1', 'hswarna', '6/17/2016 0:01'], ['10301696', 'Note by Note: The Making of Steinway L1037 (2007)', 'http://www.nytimes.com/2007/11/07/movies/07stein.html?_r=0', '8', '2', 'walterbell', '9/30/2015 4:12']]\n"
     ]
    }
   ],
   "source": [
    "from csv import reader\n",
    "file_open=open(\"hacker_news.csv\")\n",
    "read=reader(file_open)\n",
    "hn=list(read)\n",
    "headers=hn[0]\n",
    "hn=hn[1:]\n",
    "print(headers)\n",
    "print(\"\\n\")\n",
    "print(hn[0:5])\n"
   ]
  },
  {
   "cell_type": "markdown",
   "metadata": {},
   "source": [
    "### Creating a list of Ask HN, Show HN and Other posts\n",
    "\n",
    "Now we will separate the different types on questions based on how they have been classified and create separate lists for each."
   ]
  },
  {
   "cell_type": "code",
   "execution_count": 3,
   "metadata": {
    "collapsed": false
   },
   "outputs": [
    {
     "name": "stdout",
     "output_type": "stream",
     "text": [
      "1744\n",
      "1162\n",
      "17194\n",
      "\n",
      "\n",
      "[['12296411', 'Ask HN: How to improve my personal website?', '', '2', '6', 'ahmedbaracat', '8/16/2016 9:55'], ['10610020', 'Ask HN: Am I the only one outraged by Twitter shutting down share counts?', '', '28', '29', 'tkfx', '11/22/2015 13:43'], ['11610310', 'Ask HN: Aby recent changes to CSS that broke mobile?', '', '1', '1', 'polskibus', '5/2/2016 10:14'], ['12210105', 'Ask HN: Looking for Employee #3 How do I do it?', '', '1', '3', 'sph130', '8/2/2016 14:20']]\n"
     ]
    }
   ],
   "source": [
    "ask_posts=[]\n",
    "show_posts=[]\n",
    "other_posts=[]\n",
    "\n",
    "for row in hn:\n",
    "    title=row[1]\n",
    "    title=title.lower()\n",
    "    if title.startswith('ask hn'):\n",
    "        ask_posts.append(row)\n",
    "    elif title.startswith('show hn'):\n",
    "        show_posts.append(row)\n",
    "    else:\n",
    "        other_posts.append(row)\n",
    "        \n",
    "print(len(ask_posts))\n",
    "print(len(show_posts))\n",
    "print(len(other_posts))\n",
    "print(\"\\n\")\n",
    "print(ask_posts[0:4])"
   ]
  },
  {
   "cell_type": "markdown",
   "metadata": {},
   "source": [
    "Now we will determine which one of Ask HN or Show HN get more comments. "
   ]
  },
  {
   "cell_type": "code",
   "execution_count": 4,
   "metadata": {
    "collapsed": false
   },
   "outputs": [
    {
     "name": "stdout",
     "output_type": "stream",
     "text": [
      "Average Ask HN comments: 14.038417431192661\n",
      "Average Show HN comments: 10.31669535283993\n"
     ]
    }
   ],
   "source": [
    "total_ask_comments=[]\n",
    "total_show_comments=[]\n",
    "\n",
    "for row in ask_posts:\n",
    "    num_comments=int(row[4])\n",
    "    total_ask_comments.append(num_comments)\n",
    "\n",
    "avg_ask_comments=sum(total_ask_comments)/len(total_ask_comments)\n",
    "print(\"Average Ask HN comments:\", avg_ask_comments)\n",
    "\n",
    "for row in show_posts:\n",
    "    num_comments=int(row[4])\n",
    "    total_show_comments.append(num_comments)\n",
    "\n",
    "avg_show_comments=sum(total_show_comments)/len(total_show_comments)\n",
    "print(\"Average Show HN comments:\", avg_show_comments)\n",
    "    "
   ]
  },
  {
   "cell_type": "markdown",
   "metadata": {},
   "source": [
    "Clearly the average comments on a Show HN posts are lower than the Ask HN posts. It might be because people are more interested in answering the already asked questions and that might also be generating additional discussion threads thus incrasing the number of comments overall. Since the average is higher for ask posts we will focus our attention there and try to find out which hour of the data attract most number of posts."
   ]
  },
  {
   "cell_type": "code",
   "execution_count": 5,
   "metadata": {
    "collapsed": false,
    "scrolled": false
   },
   "outputs": [
    {
     "name": "stdout",
     "output_type": "stream",
     "text": [
      "{'15': 116, '12': 73, '05': 46, '09': 45, '14': 107, '00': 55, '11': 58, '13': 85, '10': 59, '08': 48, '19': 110, '20': 80, '17': 100, '01': 60, '02': 58, '21': 109, '03': 54, '18': 109, '06': 44, '22': 71, '04': 47, '16': 108, '23': 68, '07': 34}\n",
      "\n",
      "\n",
      "{'15': 4477, '12': 687, '05': 464, '09': 251, '14': 1416, '00': 447, '11': 641, '13': 1253, '10': 793, '08': 492, '19': 1188, '20': 1722, '17': 1146, '01': 683, '02': 1381, '21': 1745, '03': 421, '18': 1439, '06': 397, '22': 479, '04': 337, '16': 1814, '23': 543, '07': 267}\n"
     ]
    }
   ],
   "source": [
    "import datetime as dt\n",
    "result_list=[]\n",
    "counts_by_hour={}\n",
    "comments_by_hour={}\n",
    "for row in ask_posts:\n",
    "    temp_lst=[]\n",
    "    created_at=row[6]\n",
    "    temp_lst.append(created_at)\n",
    "    num_comments=int(row[4])\n",
    "    temp_lst.append(num_comments)\n",
    "    result_list.append(temp_lst)\n",
    "\n",
    "for row in result_list:    \n",
    "    date_format=\"%m/%d/%Y %H:%M\"\n",
    "    date_time=row[0]\n",
    "    comment=row[1]\n",
    "    date_time1=dt.datetime.strptime(date_time,date_format)\n",
    "    hr=dt.datetime.strftime(date_time1,\"%H\")\n",
    "    if hr in counts_by_hour:\n",
    "        counts_by_hour[hr]+=1\n",
    "        comments_by_hour[hr]+=comment\n",
    "    else:\n",
    "        counts_by_hour[hr]=1\n",
    "        comments_by_hour[hr]=comment\n",
    "        \n",
    "print(counts_by_hour)\n",
    "print(\"\\n\")\n",
    "print(comments_by_hour)"
   ]
  },
  {
   "cell_type": "markdown",
   "metadata": {
    "collapsed": true
   },
   "source": [
    "We will now create list of lists from the two dictionaries we created above. We want to ultimately find the average number of comments per hour and average number of users per hour. "
   ]
  },
  {
   "cell_type": "code",
   "execution_count": 6,
   "metadata": {
    "collapsed": false
   },
   "outputs": [
    {
     "name": "stdout",
     "output_type": "stream",
     "text": [
      "[['15', 38.5948275862069], ['12', 9.41095890410959], ['05', 10.08695652173913], ['09', 5.5777777777777775], ['14', 13.233644859813085], ['00', 8.127272727272727], ['11', 11.051724137931034], ['13', 14.741176470588234], ['10', 13.440677966101696], ['08', 10.25], ['19', 10.8], ['20', 21.525], ['17', 11.46], ['01', 11.383333333333333], ['02', 23.810344827586206], ['21', 16.009174311926607], ['03', 7.796296296296297], ['18', 13.20183486238532], ['06', 9.022727272727273], ['22', 6.746478873239437], ['04', 7.170212765957447], ['16', 16.796296296296298], ['23', 7.985294117647059], ['07', 7.852941176470588]]\n"
     ]
    }
   ],
   "source": [
    "\n",
    "avg_by_hour=[]\n",
    "for hour in counts_by_hour:\n",
    "    avg_by_hour.append([hour, int(comments_by_hour[hour])/int(counts_by_hour[hour])])\n",
    "\n",
    "print(avg_by_hour)\n",
    "    "
   ]
  },
  {
   "cell_type": "markdown",
   "metadata": {
    "collapsed": true
   },
   "source": [
    "We will now format the list of lists above to make to increase the readability of the data. "
   ]
  },
  {
   "cell_type": "code",
   "execution_count": 14,
   "metadata": {
    "collapsed": false
   },
   "outputs": [
    {
     "name": "stdout",
     "output_type": "stream",
     "text": [
      "[[38.5948275862069, '15'], [9.41095890410959, '12'], [10.08695652173913, '05'], [5.5777777777777775, '09'], [13.233644859813085, '14'], [8.127272727272727, '00'], [11.051724137931034, '11'], [14.741176470588234, '13'], [13.440677966101696, '10'], [10.25, '08'], [10.8, '19'], [21.525, '20'], [11.46, '17'], [11.383333333333333, '01'], [23.810344827586206, '02'], [16.009174311926607, '21'], [7.796296296296297, '03'], [13.20183486238532, '18'], [9.022727272727273, '06'], [6.746478873239437, '22'], [7.170212765957447, '04'], [16.796296296296298, '16'], [7.985294117647059, '23'], [7.852941176470588, '07']]\n",
      "\n",
      "\n",
      "[[38.5948275862069, '15'], [23.810344827586206, '02'], [21.525, '20'], [16.796296296296298, '16'], [16.009174311926607, '21'], [14.741176470588234, '13'], [13.440677966101696, '10'], [13.233644859813085, '14'], [13.20183486238532, '18'], [11.46, '17'], [11.383333333333333, '01'], [11.051724137931034, '11'], [10.8, '19'], [10.25, '08'], [10.08695652173913, '05'], [9.41095890410959, '12'], [9.022727272727273, '06'], [8.127272727272727, '00'], [7.985294117647059, '23'], [7.852941176470588, '07'], [7.796296296296297, '03'], [7.170212765957447, '04'], [6.746478873239437, '22'], [5.5777777777777775, '09']]\n",
      "\n",
      "\n",
      "Top 5 Hours for Ask Posts Comments\n",
      "15:00 : 38.59 average comments per post\n",
      "02:00 : 23.81 average comments per post\n",
      "20:00 : 21.52 average comments per post\n",
      "16:00 : 16.80 average comments per post\n",
      "21:00 : 16.01 average comments per post\n"
     ]
    }
   ],
   "source": [
    "swap_avg_by_hour=[]\n",
    "for rows in avg_by_hour:\n",
    "    swap_avg_by_hour.append([rows[1], rows[0]])\n",
    "\n",
    "print(swap_avg_by_hour)\n",
    "\n",
    "sorted_swap=sorted(swap_avg_by_hour, reverse=True)\n",
    "\n",
    "print(\"\\n\")\n",
    "print(sorted_swap)\n",
    "print(\"\\n\")\n",
    "print(\"Top 5 Hours for Ask Posts Comments\")\n",
    "\n",
    "for row in sorted_swap[0:5]:\n",
    "    date_format=\"%H\"\n",
    "    average=row[0]\n",
    "    hour=row[1]\n",
    "    date_time1=dt.datetime.strptime(hour,date_format)\n",
    "    hr=dt.datetime.strftime(date_time1,\"%H:%M\")\n",
    "    avg_format=\"{:.2f} average comments per post\".format(average)\n",
    "    print(hr,\":\", avg_format)\n",
    "    \n"
   ]
  },
  {
   "cell_type": "markdown",
   "metadata": {},
   "source": [
    "The times above are the best times according to the data to get most number of responses for the Ask Posts.\n",
    "\n",
    "It looks like that a two-hour window between 3-5 PM might be the most useful window for people to get responses to their queries. Similarly the window of 8-10 PM looks productive too. \n",
    "\n",
    "2 AM seems to be completely out of the general pattern and it might be interesting to dig deeper into that.\n",
    "\n",
    "May be an analysis of Show HN data might throw more light as well."
   ]
  },
  {
   "cell_type": "code",
   "execution_count": null,
   "metadata": {
    "collapsed": true
   },
   "outputs": [],
   "source": []
  }
 ],
 "metadata": {
  "kernelspec": {
   "display_name": "Python 3",
   "language": "python",
   "name": "python3"
  },
  "language_info": {
   "codemirror_mode": {
    "name": "ipython",
    "version": 3
   },
   "file_extension": ".py",
   "mimetype": "text/x-python",
   "name": "python",
   "nbconvert_exporter": "python",
   "pygments_lexer": "ipython3",
   "version": "3.4.3"
  }
 },
 "nbformat": 4,
 "nbformat_minor": 2
}
